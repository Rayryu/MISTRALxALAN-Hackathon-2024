{
 "cells": [
  {
   "cell_type": "code",
   "execution_count": null,
   "id": "5475549f-e076-46f2-8a21-349739d153b7",
   "metadata": {},
   "outputs": [],
   "source": [
    "#iFrst clone the FrenchMedMCQA repo.."
   ]
  },
  {
   "cell_type": "code",
   "execution_count": 7,
   "id": "b01cc9b7-3e19-428f-a670-41c1e616839f",
   "metadata": {},
   "outputs": [
    {
     "name": "stdout",
     "output_type": "stream",
     "text": [
      "Processing FrenchMedMCQA/corpus/dev.json to FrenchMedMCQA/corpus/dev_transformed_2.jsonl...\n",
      "Processing FrenchMedMCQA/corpus/test.json to FrenchMedMCQA/corpus/test_transformed_2.jsonl...\n",
      "Processing FrenchMedMCQA/corpus/train.json to FrenchMedMCQA/corpus/train_transformed_2.jsonl...\n"
     ]
    }
   ],
   "source": [
    "import os, json\n",
    "\n",
    "def convert_json_to_jsonl(input_json_files):\n",
    "    \"\"\"\n",
    "    Converts multiple JSON files containing medical questions to JSONL format\n",
    "    suitable for fine-tuning Mistral's API.\n",
    "\n",
    "    Args:\n",
    "        input_json_files (list of str): List of paths to the input JSON files.\n",
    "    \"\"\"\n",
    "    for input_json_file in input_json_files:\n",
    "        # Generate output file path by appending '_transformed.jsonl'\n",
    "        output_jsonl_file = f\"{os.path.splitext(input_json_file)[0]}_transformed_2.jsonl\"\n",
    "        \n",
    "        print(f\"Processing {input_json_file} to {output_jsonl_file}...\")\n",
    "\n",
    "        # Load the training data from the JSON file\n",
    "        with open(input_json_file, 'r', encoding='utf-8') as f:\n",
    "            train_data = json.load(f)\n",
    "\n",
    "        # Prepare a list to hold the fine-tuning data\n",
    "        fine_tune_data = []\n",
    "\n",
    "        for item in train_data:\n",
    "            question = item['question']\n",
    "            answers = item['answers']\n",
    "            \n",
    "            # Build the prompt (question + possible answers)\n",
    "            prompt = f\"{question}\\n\"\n",
    "            for letter, answer_text in answers.items():\n",
    "                prompt += f\"{letter}: {answer_text}\\n\"\n",
    "            \n",
    "            # Use the correct answers' letters as the response\n",
    "            response = ','.join(sorted(item['correct_answers']))\n",
    "\n",
    "            # Append the structured messages\n",
    "            fine_tune_data.append({\n",
    "                \"messages\": [\n",
    "                    {\n",
    "                        \"role\": \"user\",\n",
    "                        \"content\": prompt.strip()  # The user prompt\n",
    "                    },\n",
    "                    {\n",
    "                        \"role\": \"assistant\",\n",
    "                        \"content\": response        # The letter(s) of the correct answer(s)\n",
    "                    }\n",
    "                ]\n",
    "            })\n",
    "\n",
    "        # Save the fine-tuning data to JSON Lines format\n",
    "        with open(output_jsonl_file, 'w', encoding='utf-8') as out_f:\n",
    "            for entry in fine_tune_data:\n",
    "                out_f.write(json.dumps(entry, ensure_ascii=False) + '\\n')\n",
    "\n",
    "file_list = ['FrenchMedMCQA/corpus/dev.json', 'FrenchMedMCQA/corpus/test.json', 'FrenchMedMCQA/corpus/train.json']\n",
    "convert_json_to_jsonl(file_list)"
   ]
  },
  {
   "cell_type": "code",
   "execution_count": null,
   "id": "2abaf718-44ce-43d0-8544-334f78f70d62",
   "metadata": {},
   "outputs": [],
   "source": []
  }
 ],
 "metadata": {
  "kernelspec": {
   "display_name": "Python 3 (ipykernel)",
   "language": "python",
   "name": "python3"
  },
  "language_info": {
   "codemirror_mode": {
    "name": "ipython",
    "version": 3
   },
   "file_extension": ".py",
   "mimetype": "text/x-python",
   "name": "python",
   "nbconvert_exporter": "python",
   "pygments_lexer": "ipython3",
   "version": "3.8.10"
  }
 },
 "nbformat": 4,
 "nbformat_minor": 5
}
